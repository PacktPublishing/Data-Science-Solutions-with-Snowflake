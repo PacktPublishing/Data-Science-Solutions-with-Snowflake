{
 "cells": [
  {
   "attachments": {},
   "cell_type": "markdown",
   "metadata": {},
   "source": [
    "1. Clone the project repo (https://github.com/PacktPublishing/Data-Science-Solutions-with-Snowflake) and change you working directory to point to it.\n",
    "2. Install virtualenv `pip install virtualenv`\n",
    "3. Create a virtual environment in project root directory `virtualenv venv --python=python3.8.x` (Snowpark for Python requires Python 3.8.X)\n",
    "4. Install Snowflake Connector for Python with Pandas `pip install snowflake-connector-python[pandas]`\n",
    "5. Install Snowpark for Python with Pandas `pip install snowflake-snowpark-python[pandas]`\n",
    "6. Install IPYthon `pip install IPYthon`\n",
    "7. Install Jupyter Notebooks `pip install jupyter`\n",
    "8. Install Sweetviz `pip install sweetviz`"
   ]
  },
  {
   "cell_type": "code",
   "execution_count": null,
   "metadata": {},
   "outputs": [],
   "source": [
    "import pandas as pd\n",
    "import sweetviz as sv\n",
    "\n",
    "from configparser import ConfigParser\n",
    "from snowflake.snowpark import Session\n"
   ]
  },
  {
   "cell_type": "code",
   "execution_count": null,
   "metadata": {},
   "outputs": [],
   "source": [
    "# Create a 'config.ini' file to store credentials locally for security\n",
    "config = ConfigParser()\n",
    "cfg_path = \"../config.ini\"\n",
    "config.read(cfg_path)\n"
   ]
  },
  {
   "cell_type": "code",
   "execution_count": null,
   "metadata": {},
   "outputs": [],
   "source": [
    "# Connect to Snowflake\n",
    "account = config[\"CONNECTION\"][\"account\"]\n",
    "user = config[\"CONNECTION\"][\"user\"]\n",
    "password = config[\"CONNECTION\"][\"password\"]\n",
    "role = config[\"CONNECTION\"][\"role\"]\n",
    "warehouse = config[\"CONNECTION\"][\"warehouse\"]\n",
    "database = config[\"CONNECTION\"][\"database\"]\n",
    "schema = config[\"CONNECTION\"][\"schema\"]\n",
    "\n",
    "connection_parameters = {\n",
    "    \"account\": account,\n",
    "    \"user\": user,\n",
    "    \"password\": password,\n",
    "    \"role\": role,\n",
    "    \"warehouse\": warehouse,\n",
    "    \"database\": database,\n",
    "    \"schema\": schema,\n",
    "}\n",
    "\n",
    "session = Session.builder.configs(connection_parameters).create()\n",
    "\n",
    "# Test connection\n",
    "print(session.sql(\"select * from global_superstore_orders limit 5\").collect())\n"
   ]
  },
  {
   "cell_type": "code",
   "execution_count": null,
   "metadata": {},
   "outputs": [],
   "source": [
    "# Load data tables locally as Snowflake tables\n",
    "orders_raw = session.table(\"GLOBAL_SUPERSTORE_ORDERS\")\n",
    "returns_raw = session.table(\"GLOBAL_SUPERSTORE_RETURNS\")\n",
    "\n",
    "# Print an example of the orders_raw dataframe in Pandas format\n",
    "orders_raw.limit(5).toPandas()\n"
   ]
  },
  {
   "cell_type": "code",
   "execution_count": null,
   "metadata": {},
   "outputs": [],
   "source": [
    "# Join tables orders_raw and returns_raw on order_id (uses Snowflake's join syntax)\n",
    "orders_join = orders_raw.join(returns_raw, \"ORDER_ID\", how=\"left\")\n",
    "\n",
    "# Convert to Pandas DataFrame (Snowpark has data manipulation limitations)\n",
    "orders_pandas = orders_join.toPandas()\n"
   ]
  },
  {
   "cell_type": "code",
   "execution_count": null,
   "metadata": {},
   "outputs": [],
   "source": [
    "# Display Sweetviz analysis results\n",
    "sv.analyze(orders_pandas).show_html()\n"
   ]
  },
  {
   "cell_type": "code",
   "execution_count": null,
   "metadata": {},
   "outputs": [],
   "source": [
    "def write_to_snowflake(df: pd.DataFrame, table_name: str) -> None:\n",
    "    \"\"\"\n",
    "    Write Pandas DataFrame to Snowflake table\n",
    "    \"\"\"\n",
    "    session.write_pandas(df, table_name, auto_create_table=True)\n",
    "\n",
    "\n",
    "write_to_snowflake(orders_pandas, \"GLOBAL_SUPERSTORE_MERGED\")\n"
   ]
  },
  {
   "cell_type": "code",
   "execution_count": null,
   "metadata": {},
   "outputs": [],
   "source": []
  }
 ],
 "metadata": {
  "kernelspec": {
   "display_name": "Python 3.9.7 ('venv': venv)",
   "language": "python",
   "name": "python3"
  },
  "language_info": {
   "codemirror_mode": {
    "name": "ipython",
    "version": 3
   },
   "file_extension": ".py",
   "mimetype": "text/x-python",
   "name": "python",
   "nbconvert_exporter": "python",
   "pygments_lexer": "ipython3",
   "version": "3.8.9"
  },
  "orig_nbformat": 4,
  "vscode": {
   "interpreter": {
    "hash": "1571d9ace7243a09610bd7fa31a1bc62b626160c4605a35e2aa481fd958ccb46"
   }
  }
 },
 "nbformat": 4,
 "nbformat_minor": 2
}
