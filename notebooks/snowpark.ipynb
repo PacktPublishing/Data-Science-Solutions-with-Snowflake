{
 "cells": [
  {
   "cell_type": "markdown",
   "metadata": {},
   "source": [
    "1. Clone the project repo (https://github.com/PacktPublishing/Data-Science-Solutions-with-Snowflake) and change you working directory to point to it.\n",
    "2. Install virtualenv `pip install virtualenv`\n",
    "3. Create a virtual environment in project root directory `virtualenv venv --python=python3.8.9` (Snowpark for Python requires Python 3.8.X)\n",
    "4. Install Snowflake Connector for Python with Pandas `pip install snowflake-connector-python[pandas]`\n",
    "5. Install Snowpark for Python with Pandas `pip install snowflake-snowpark-python[pandas]`\n",
    "6. Install IPYthon `pip install IPYthon`\n",
    "7. Install Jupyter Notebooks `pip install jupyter`"
   ]
  },
  {
   "cell_type": "code",
   "execution_count": null,
   "metadata": {},
   "outputs": [],
   "source": [
    "import pandas as pd\n",
    "import seaborn as sns\n",
    "import matplotlib.pyplot as plt\n",
    "\n",
    "from matplotlib.pyplot import xlabel\n",
    "from configparser import ConfigParser\n",
    "from typing import Optional\n",
    "from snowflake.snowpark import Session\n"
   ]
  },
  {
   "cell_type": "code",
   "execution_count": null,
   "metadata": {},
   "outputs": [],
   "source": [
    "# Create a 'config.ini' file to store credentials locally for security\n",
    "config = ConfigParser()\n",
    "cfg_path = '../config.ini'\n",
    "config.read(cfg_path)"
   ]
  },
  {
   "cell_type": "code",
   "execution_count": null,
   "metadata": {},
   "outputs": [],
   "source": [
    "# Connect to Snowflake\n",
    "account = config['CONNECTION']['account']\n",
    "user = config['CONNECTION']['user']\n",
    "password = config['CONNECTION']['password']\n",
    "role = config['CONNECTION']['role']\n",
    "warehouse = config['CONNECTION']['warehouse']\n",
    "database = config['CONNECTION']['database']\n",
    "schema = config['CONNECTION']['schema']\n",
    "\n",
    "connection_parameters = {\n",
    "  'account': account,\n",
    "  'user': user,\n",
    "  'password': password,\n",
    "  'role': role,\n",
    "  'warehouse': warehouse,\n",
    "  'database': database,\n",
    "  'schema': schema\n",
    "}\n",
    "\n",
    "session = Session.builder.configs(connection_parameters).create()\n",
    "\n",
    "# Test connection\n",
    "print(session.sql('select * from movies_raw limit 5').collect()) "
   ]
  },
  {
   "cell_type": "code",
   "execution_count": null,
   "metadata": {},
   "outputs": [],
   "source": [
    "# Load data tables locally as Snowflake tables\n",
    "movies_raw = session.table('MOVIES_RAW')\n",
    "ratings_raw = session.table('RATINGS_RAW')\n",
    "users_raw = session.table('USERS_RAW')\n",
    "\n",
    "# Print an example of the movies_raw dataframe in pandas format\n",
    "movies_raw.limit(5).toPandas()"
   ]
  },
  {
   "cell_type": "code",
   "execution_count": null,
   "metadata": {},
   "outputs": [],
   "source": [
    "# Join tables movie_raw and ratings_raw on movie_id (uses Snowflake's join syntax)\n",
    "movie_ratings_join = movies_raw.join(ratings_raw, 'MOVIE_ID')\n",
    "\n",
    "# Join tables movie_ratings_join and users_raw on user_id (uses Snowflake's join syntax)\n",
    "movie_users_join = movie_ratings_join.join(users_raw, 'USER_ID')\n",
    "\n",
    "# Convert to Pandas DataFrame (Snowpark has data manipulation limitations)\n",
    "movie_pandas = movie_users_join.toPandas()"
   ]
  },
  {
   "cell_type": "code",
   "execution_count": null,
   "metadata": {},
   "outputs": [],
   "source": [
    "def movie_preprocessing(df: pd.DataFrame) -> pd.DataFrame:\n",
    "    '''\n",
    "    Preprocesses the movie dataframe to extract film year, remove trailing parenthesis,\n",
    "    and convert genre to dummies.\n",
    "    '''\n",
    "    df[['MOVIE_TITLE','MOVIE_YEAR']] = df['MOVIE_TITLE'].str.split(' \\(', expand=True)\n",
    "    df['MOVIE_YEAR'] = df['MOVIE_YEAR'].str.replace(r'\\)','', regex=True)\n",
    "    return df.join(pd.DataFrame(df['GENRE'].str.get_dummies())).drop('GENRE', axis=1)\n",
    "\n",
    "movie_prep = movie_preprocessing(movie_pandas)"
   ]
  },
  {
   "cell_type": "code",
   "execution_count": null,
   "metadata": {},
   "outputs": [],
   "source": [
    "def movie_dq_checks(df: pd.DataFrame, \n",
    "                    remove_na: Optional[bool] = False, \n",
    "                    remove_duplicates: Optional[bool] = False) -> pd.DataFrame:\n",
    "    ''' \n",
    "    Perform basic data quality checks on data set and set strategy for removing\n",
    "    missing and duplicated values\n",
    "    '''\n",
    "    count_na = df.isna().sum().sum()\n",
    "    if count_na > 0 and remove_na:\n",
    "        df = df.dropna()\n",
    "        print(f'Removed {count_na} rows with NA values')\n",
    "    else:\n",
    "        print('No missing values')\n",
    "    count_dup = df.duplicated().sum()\n",
    "    if count_dup > 0 and remove_duplicates:\n",
    "        df = df.drop_duplicates()\n",
    "        print(f'Removed {count_dup} duplicate rows')\n",
    "    else:\n",
    "        print('No duplicates')\n",
    "    return df   \n",
    "\n",
    "movie_dq = movie_dq_checks(movie_prep)"
   ]
  },
  {
   "cell_type": "code",
   "execution_count": null,
   "metadata": {},
   "outputs": [],
   "source": [
    "def write_to_snowflake(df: pd.DataFrame, table_name: str) -> None:\n",
    "    '''\n",
    "    Write Pandas DataFrame to Snowflake table\n",
    "    '''\n",
    "    session.write_pandas(df, table_name, auto_create_table=True)\n",
    "\n",
    "write_to_snowflake(movie_dq, 'MOVIE_BASE')"
   ]
  },
  {
   "cell_type": "code",
   "execution_count": null,
   "metadata": {},
   "outputs": [],
   "source": [
    "def movies_by_decade(df: pd.DataFrame) -> sns.countplot:\n",
    "    '''\n",
    "    Returns a plot of the number of movies by year\n",
    "    '''\n",
    "    df['MOVIE_YEAR'] = df['MOVIE_YEAR'].astype(int)\n",
    "    df['DECADE'] = pd.cut(df['MOVIE_YEAR'], \n",
    "                          bins=[1890, 1900, 1920, 1940, 1950, 1960, \n",
    "                                1970, 1980, 1990, 2000, 2010, 2020])\n",
    "    plt.figure(figsize=(10,10), facecolor='white')\n",
    "    sns.countplot(y='DECADE', data=df, palette='Set1')\n",
    "    plt.xlabel('Count')\n",
    "    \n",
    "movies_by_decade(movie_dq)"
   ]
  },
  {
   "cell_type": "code",
   "execution_count": null,
   "metadata": {},
   "outputs": [],
   "source": [
    "def number_of_ratings_by_user (df: pd.DataFrame) -> sns.countplot:\n",
    "    ''' \n",
    "    Returns a histogram of the number of movies rated by each user\n",
    "    '''\n",
    "    count = movie_dq.groupby('USER_ID')['USER_ID'].count()\n",
    "    plt.figure(figsize=(10,10), facecolor='white')\n",
    "    sns.histplot(count, binwidth=10)\n",
    "    plt.xlabel('Number of movies rated by user')\n",
    "    \n",
    "number_of_ratings_by_user(movie_dq)"
   ]
  },
  {
   "cell_type": "code",
   "execution_count": null,
   "metadata": {},
   "outputs": [],
   "source": [
    "def movies_by_genre(df: pd.DataFrame) -> sns.barplot:\n",
    "    '''\n",
    "    Returns a plot of the number of movies by genre\n",
    "    '''\n",
    "    data = df.drop(columns=['USER_ID', 'MOVIE_ID', 'MOVIE_TITLE', 'RATING', \n",
    "                            'RATING_TIMESTAMP', 'TWITTER_ID', 'MOVIE_YEAR', 'DECADE'])\n",
    "    data = data.melt(var_name='GENRE')\n",
    "    data = data.groupby('GENRE', as_index=False).sum('value').sort_values(by='value', ascending=False)\n",
    "    plt.figure(figsize=(10,10), facecolor='white')\n",
    "    sns.barplot(x='GENRE', y='value', data=data, palette='Set1')\n",
    "    plt.xticks(rotation=90, fontsize=15)\n",
    "    plt.ylabel('Count')\n",
    "    \n",
    "movies_by_genre(movie_dq)"
   ]
  },
  {
   "cell_type": "code",
   "execution_count": null,
   "metadata": {},
   "outputs": [],
   "source": [
    "def genre_correlations(df: pd.DataFrame) -> sns.heatmap:\n",
    "    '''\n",
    "    Returns a heatmap of the correlations between movies with multiple genres\n",
    "    '''\n",
    "    data = movie_dq.drop(columns=['USER_ID', 'MOVIE_ID', 'MOVIE_TITLE', 'RATING', \n",
    "                                  'RATING_TIMESTAMP', 'TWITTER_ID', 'MOVIE_YEAR', 'DECADE'])\n",
    "    plt.figure(figsize=(15,10), facecolor='white')\n",
    "    sns.heatmap(data.corr(), cmap='coolwarm')\n",
    "    plt.xticks(fontsize=15)\n",
    "    plt.yticks(fontsize=15)\n",
    "    \n",
    "genre_correlations(movie_dq)"
   ]
  },
  {
   "cell_type": "code",
   "execution_count": null,
   "metadata": {},
   "outputs": [],
   "source": [
    "def genre_by_decade(df: pd.DataFrame) -> sns.heatmap:\n",
    "    '''\n",
    "    Returns a heatmap of movie genres by decade\n",
    "    '''\n",
    "    data = movie_dq.drop(columns=['USER_ID', 'MOVIE_ID', 'MOVIE_TITLE', 'RATING', \n",
    "                                  'RATING_TIMESTAMP', 'TWITTER_ID', 'MOVIE_YEAR'])\n",
    "    data = data.melt(id_vars='DECADE', var_name='GENRE')\n",
    "    data = data.groupby(['DECADE', 'GENRE'], as_index=False).sum('value')\n",
    "    data = data.pivot('DECADE','GENRE','value')\n",
    "    data_norm = (data - data.min()) / (data.max() - data.min())\n",
    "    plt.figure(figsize=(15,10), facecolor='white')\n",
    "    sns.heatmap(data_norm, cmap='Blues')\n",
    "    plt.xticks(fontsize=15)\n",
    "    plt.yticks(fontsize=15)\n",
    "\n",
    "genre_by_decade(movie_dq)"
   ]
  }
 ],
 "metadata": {
  "kernelspec": {
   "display_name": "Python 3.9.7 ('venv': venv)",
   "language": "python",
   "name": "python3"
  },
  "language_info": {
   "codemirror_mode": {
    "name": "ipython",
    "version": 3
   },
   "file_extension": ".py",
   "mimetype": "text/x-python",
   "name": "python",
   "nbconvert_exporter": "python",
   "pygments_lexer": "ipython3",
   "version": "3.8.9"
  },
  "orig_nbformat": 4,
  "vscode": {
   "interpreter": {
    "hash": "1571d9ace7243a09610bd7fa31a1bc62b626160c4605a35e2aa481fd958ccb46"
   }
  }
 },
 "nbformat": 4,
 "nbformat_minor": 2
}
