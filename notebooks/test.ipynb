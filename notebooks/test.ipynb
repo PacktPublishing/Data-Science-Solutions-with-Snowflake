{
 "cells": [
  {
   "cell_type": "markdown",
   "metadata": {},
   "source": [
    "1. Install virtualenv `pip install virtualenv`\n",
    "2. Create a virtual environment in project root directory `virtualenv venv --python=python3.8.9` (Snowpark for Python requires Python 3.8.X)\n",
    "3. Install Snowflake Connector for Python with Pandas `pip install snowflake-connector-python[pandas]`\n",
    "4. Install Snowpark for Python with Pandas `pip install snowflake-snowpark-python[pandas]`\n",
    "5. Install IPYthon `pip install IPYthon`\n",
    "6. Install Jupyter Notebooks `pip install jupyter`"
   ]
  },
  {
   "cell_type": "code",
   "execution_count": null,
   "metadata": {},
   "outputs": [],
   "source": [
    "import pandas as pd\n",
    "\n",
    "from configparser import ConfigParser\n",
    "# from typing import PASS\n",
    "from pandas_profiling import ProfileReport\n",
    "from snowflake.snowpark import Session\n",
    "# from snowflake.snowpark.functions import udf, split\n",
    "# from snowflake.snowpark import functions as funct"
   ]
  },
  {
   "cell_type": "code",
   "execution_count": null,
   "metadata": {},
   "outputs": [],
   "source": [
    "# Create a 'config.ini' file to store credentials locally for security\n",
    "config = ConfigParser()\n",
    "cfg_path = '../config.ini'\n",
    "config.read(cfg_path)"
   ]
  },
  {
   "cell_type": "code",
   "execution_count": null,
   "metadata": {},
   "outputs": [],
   "source": [
    "# Connect to Snowflake\n",
    "account = config['CONNECTION']['account']\n",
    "user = config['CONNECTION']['user']\n",
    "password = config['CONNECTION']['password']\n",
    "role = config['CONNECTION']['role']\n",
    "warehouse = config['CONNECTION']['warehouse']\n",
    "database = config['CONNECTION']['database']\n",
    "schema = config['CONNECTION']['schema']\n",
    "\n",
    "connection_parameters = {\n",
    "  \"account\": account,\n",
    "  \"user\": user,\n",
    "  \"password\": password,\n",
    "  \"role\": role,\n",
    "  \"warehouse\": warehouse,\n",
    "  \"database\": database,\n",
    "  \"schema\": schema\n",
    "}\n",
    "\n",
    "session = Session.builder.configs(connection_parameters).create()\n",
    "\n",
    "# Test connection\n",
    "print(session.sql(\"select * from movies_raw limit 10\").collect())  "
   ]
  },
  {
   "cell_type": "code",
   "execution_count": null,
   "metadata": {},
   "outputs": [],
   "source": [
    "# Store database tables in a DataFrame\n",
    "movies_raw = session.table('movies_raw').to_pandas()\n",
    "ratings_raw = session.table('ratings_raw').to_pandas()\n",
    "users_raw = session.table('users_raw').to_pandas()\n",
    "\n",
    "# Print an example of the movies_raw dataframe in pandas format\n",
    "movies_raw.head()"
   ]
  },
  {
   "cell_type": "code",
   "execution_count": null,
   "metadata": {},
   "outputs": [],
   "source": [
    "# Data transformations on movies_raw. Add a new column called 'year', create dummies for genres, and drop the genres column (create function to do this)\n",
    "movies_raw[['MOVIE_TITLE','MOVIE_YEAR']] = movies_raw['MOVIE_TITLE'].str.split(' \\(', expand=True)\n",
    "movies_raw['MOVIE_YEAR'] = movies_raw['MOVIE_YEAR'].str.replace('\\)','')\n",
    "movies_raw = movies_raw.join(pd.DataFrame(movies_raw['GENRE'].str.get_dummies())).drop('GENRE', axis=1)"
   ]
  },
  {
   "cell_type": "code",
   "execution_count": null,
   "metadata": {},
   "outputs": [],
   "source": [
    "# DQ checks: Remove missing values, check for duplicate rows, check for null values, check for duplicate columns (create function to do this)\n",
    "movies_raw.isnull().sum()"
   ]
  },
  {
   "cell_type": "code",
   "execution_count": null,
   "metadata": {},
   "outputs": [],
   "source": [
    "# DQ checks on movies_raw\n",
    "movies_raw.drop_duplicates().count()\n"
   ]
  },
  {
   "cell_type": "code",
   "execution_count": null,
   "metadata": {},
   "outputs": [],
   "source": [
    "movies_raw.dropna().count()"
   ]
  },
  {
   "cell_type": "code",
   "execution_count": null,
   "metadata": {},
   "outputs": [],
   "source": [
    "ratings_base = ratings_raw.join(users_raw.set_index('USER_ID'), on='USER_ID')"
   ]
  },
  {
   "cell_type": "code",
   "execution_count": null,
   "metadata": {},
   "outputs": [],
   "source": [
    "movies_base = movies_raw.join(ratings_base.set_index('MOVIE_ID'), on='MOVIE_ID')"
   ]
  },
  {
   "cell_type": "code",
   "execution_count": null,
   "metadata": {},
   "outputs": [],
   "source": [
    "ProfileReport(movies_base)"
   ]
  },
  {
   "cell_type": "code",
   "execution_count": null,
   "metadata": {},
   "outputs": [],
   "source": []
  }
 ],
 "metadata": {
  "kernelspec": {
   "display_name": "Python 3.9.7 ('venv': venv)",
   "language": "python",
   "name": "python3"
  },
  "language_info": {
   "codemirror_mode": {
    "name": "ipython",
    "version": 3
   },
   "file_extension": ".py",
   "mimetype": "text/x-python",
   "name": "python",
   "nbconvert_exporter": "python",
   "pygments_lexer": "ipython3",
   "version": "3.8.9"
  },
  "orig_nbformat": 4,
  "vscode": {
   "interpreter": {
    "hash": "1571d9ace7243a09610bd7fa31a1bc62b626160c4605a35e2aa481fd958ccb46"
   }
  }
 },
 "nbformat": 4,
 "nbformat_minor": 2
}
