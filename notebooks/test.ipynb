{
 "cells": [
  {
   "cell_type": "markdown",
   "metadata": {},
   "source": [
    "1. Install virtualenv `pip install virtualenv`\n",
    "2. Create a virtual environment in project root directory `virtualenv venv --python=python3.8.9` (Snowpark for Python requires Python 3.8.X)\n",
    "3. Install Snowflake Connector for Python with Pandas `pip install snowflake-connector-python[pandas]`\n",
    "4. Install Snowpark for Python with Pandas `pip install snowflake-snowpark-python[pandas]`\n",
    "5. Install IPYthon `pip install IPYthon`\n",
    "6. Install Jupyter Notebooks `pip install jupyter`"
   ]
  },
  {
   "cell_type": "code",
   "execution_count": null,
   "metadata": {},
   "outputs": [],
   "source": [
    "import pandas as pd\n",
    "\n",
    "from configparser import ConfigParser\n",
    "\n",
    "from snowflake.snowpark import Session\n",
    "from snowflake.snowpark.functions import udf, split\n",
    "from snowflake.snowpark import functions as funct"
   ]
  },
  {
   "cell_type": "code",
   "execution_count": null,
   "metadata": {},
   "outputs": [],
   "source": [
    "# Create a 'config.ini' file to store credentials locally for security\n",
    "config = ConfigParser()\n",
    "cfg_path = '../config.ini'\n",
    "config.read(cfg_path)"
   ]
  },
  {
   "cell_type": "code",
   "execution_count": null,
   "metadata": {},
   "outputs": [],
   "source": [
    "# Connect to Snowflake\n",
    "account = config['CONNECTION']['account']\n",
    "user = config['CONNECTION']['user']\n",
    "password = config['CONNECTION']['password']\n",
    "role = config['CONNECTION']['role']\n",
    "warehouse = config['CONNECTION']['warehouse']\n",
    "database = config['CONNECTION']['database']\n",
    "schema = config['CONNECTION']['schema']\n",
    "\n",
    "connection_parameters = {\n",
    "  \"account\": account,\n",
    "  \"user\": user,\n",
    "  \"password\": password,\n",
    "  \"role\": role,\n",
    "  \"warehouse\": warehouse,\n",
    "  \"database\": database,\n",
    "  \"schema\": schema\n",
    "}\n",
    "\n",
    "session = Session.builder.configs(connection_parameters).create()\n",
    "\n",
    "# Test connection\n",
    "print(session.sql(\"select * from movies_raw limit 10\").collect())  "
   ]
  },
  {
   "cell_type": "code",
   "execution_count": null,
   "metadata": {},
   "outputs": [],
   "source": [
    "# Store database tables in a DataFrame\n",
    "movies_raw = session.table('movies_raw').to_pandas()\n",
    "ratings_raw = session.table('ratings_raw').to_pandas()\n",
    "users_raw = session.table('users_raw').to_pandas()\n",
    "\n",
    "# Print an example of the movies_raw dataframe in pandas format\n",
    "movies_raw.head()"
   ]
  },
  {
   "cell_type": "code",
   "execution_count": null,
   "metadata": {},
   "outputs": [],
   "source": [
    "movies_raw[['MOVIE_TITLE','MOVIE_YEAR']] = movies_raw['MOVIE_TITLE'].str.split(' \\(', expand=True)\n",
    "movies_raw['MOVIE_YEAR'] = movies_raw['MOVIE_YEAR'].str.replace('\\)','')\n",
    "movies_raw = movies_raw.join(pd.DataFrame(movies_raw['GENRE'].str.get_dummies())).drop('GENRE', axis=1)\n",
    "\n"
   ]
  },
  {
   "cell_type": "code",
   "execution_count": 156,
   "metadata": {},
   "outputs": [
    {
     "data": {
      "text/html": [
       "<div>\n",
       "<style scoped>\n",
       "    .dataframe tbody tr th:only-of-type {\n",
       "        vertical-align: middle;\n",
       "    }\n",
       "\n",
       "    .dataframe tbody tr th {\n",
       "        vertical-align: top;\n",
       "    }\n",
       "\n",
       "    .dataframe thead th {\n",
       "        text-align: right;\n",
       "    }\n",
       "</style>\n",
       "<table border=\"1\" class=\"dataframe\">\n",
       "  <thead>\n",
       "    <tr style=\"text-align: right;\">\n",
       "      <th></th>\n",
       "      <th>USER_ID</th>\n",
       "      <th>MOVIE_ID</th>\n",
       "      <th>RATING</th>\n",
       "      <th>RATING_TIMESTAMP</th>\n",
       "    </tr>\n",
       "  </thead>\n",
       "  <tbody>\n",
       "    <tr>\n",
       "      <th>0</th>\n",
       "      <td>1</td>\n",
       "      <td>0068646</td>\n",
       "      <td>10</td>\n",
       "      <td>1381620027</td>\n",
       "    </tr>\n",
       "    <tr>\n",
       "      <th>1</th>\n",
       "      <td>1</td>\n",
       "      <td>0113277</td>\n",
       "      <td>10</td>\n",
       "      <td>1379466669</td>\n",
       "    </tr>\n",
       "    <tr>\n",
       "      <th>2</th>\n",
       "      <td>2</td>\n",
       "      <td>0790636</td>\n",
       "      <td>7</td>\n",
       "      <td>1389963947</td>\n",
       "    </tr>\n",
       "    <tr>\n",
       "      <th>3</th>\n",
       "      <td>2</td>\n",
       "      <td>0816711</td>\n",
       "      <td>8</td>\n",
       "      <td>1379963769</td>\n",
       "    </tr>\n",
       "    <tr>\n",
       "      <th>4</th>\n",
       "      <td>2</td>\n",
       "      <td>1091191</td>\n",
       "      <td>7</td>\n",
       "      <td>1391173869</td>\n",
       "    </tr>\n",
       "  </tbody>\n",
       "</table>\n",
       "</div>"
      ],
      "text/plain": [
       "  USER_ID MOVIE_ID RATING RATING_TIMESTAMP\n",
       "0       1  0068646     10       1381620027\n",
       "1       1  0113277     10       1379466669\n",
       "2       2  0790636      7       1389963947\n",
       "3       2  0816711      8       1379963769\n",
       "4       2  1091191      7       1391173869"
      ]
     },
     "execution_count": 156,
     "metadata": {},
     "output_type": "execute_result"
    }
   ],
   "source": [
    "ratings_raw.head()"
   ]
  },
  {
   "cell_type": "code",
   "execution_count": 157,
   "metadata": {},
   "outputs": [
    {
     "data": {
      "text/html": [
       "<div>\n",
       "<style scoped>\n",
       "    .dataframe tbody tr th:only-of-type {\n",
       "        vertical-align: middle;\n",
       "    }\n",
       "\n",
       "    .dataframe tbody tr th {\n",
       "        vertical-align: top;\n",
       "    }\n",
       "\n",
       "    .dataframe thead th {\n",
       "        text-align: right;\n",
       "    }\n",
       "</style>\n",
       "<table border=\"1\" class=\"dataframe\">\n",
       "  <thead>\n",
       "    <tr style=\"text-align: right;\">\n",
       "      <th></th>\n",
       "      <th>USER_ID</th>\n",
       "      <th>TWITTER_ID</th>\n",
       "    </tr>\n",
       "  </thead>\n",
       "  <tbody>\n",
       "    <tr>\n",
       "      <th>0</th>\n",
       "      <td>1</td>\n",
       "      <td>995885060</td>\n",
       "    </tr>\n",
       "    <tr>\n",
       "      <th>1</th>\n",
       "      <td>2</td>\n",
       "      <td>40501255</td>\n",
       "    </tr>\n",
       "    <tr>\n",
       "      <th>2</th>\n",
       "      <td>3</td>\n",
       "      <td>138805259</td>\n",
       "    </tr>\n",
       "    <tr>\n",
       "      <th>3</th>\n",
       "      <td>4</td>\n",
       "      <td>47317010</td>\n",
       "    </tr>\n",
       "    <tr>\n",
       "      <th>4</th>\n",
       "      <td>5</td>\n",
       "      <td>84541461</td>\n",
       "    </tr>\n",
       "  </tbody>\n",
       "</table>\n",
       "</div>"
      ],
      "text/plain": [
       "  USER_ID TWITTER_ID\n",
       "0       1  995885060\n",
       "1       2   40501255\n",
       "2       3  138805259\n",
       "3       4   47317010\n",
       "4       5   84541461"
      ]
     },
     "execution_count": 157,
     "metadata": {},
     "output_type": "execute_result"
    }
   ],
   "source": [
    "users_raw.head()"
   ]
  },
  {
   "cell_type": "code",
   "execution_count": null,
   "metadata": {},
   "outputs": [],
   "source": []
  }
 ],
 "metadata": {
  "kernelspec": {
   "display_name": "Python 3.9.7 ('venv': venv)",
   "language": "python",
   "name": "python3"
  },
  "language_info": {
   "codemirror_mode": {
    "name": "ipython",
    "version": 3
   },
   "file_extension": ".py",
   "mimetype": "text/x-python",
   "name": "python",
   "nbconvert_exporter": "python",
   "pygments_lexer": "ipython3",
   "version": "3.8.9"
  },
  "orig_nbformat": 4,
  "vscode": {
   "interpreter": {
    "hash": "1571d9ace7243a09610bd7fa31a1bc62b626160c4605a35e2aa481fd958ccb46"
   }
  }
 },
 "nbformat": 4,
 "nbformat_minor": 2
}
